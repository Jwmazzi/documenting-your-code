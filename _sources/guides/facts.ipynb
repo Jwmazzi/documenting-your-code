{
 "cells": [
  {
   "cell_type": "markdown",
   "metadata": {},
   "source": [
    "# Using facts to fetch your facts!"
   ]
  },
  {
   "cell_type": "code",
   "execution_count": 3,
   "metadata": {},
   "outputs": [
    {
     "data": {
      "text/plain": [
       "'Former basketball superstar Michael Jordan is the most recognized face in the world, more than the pope himself.'"
      ]
     },
     "execution_count": 3,
     "metadata": {},
     "output_type": "execute_result"
    }
   ],
   "source": [
    "from randomly.facts import generate_random_fact\n",
    "\n",
    "fact_response = generate_random_fact('json', 'en')\n",
    "\n",
    "fact_response.get('text')"
   ]
  },
  {
   "cell_type": "code",
   "execution_count": null,
   "metadata": {},
   "outputs": [],
   "source": []
  }
 ],
 "metadata": {
  "interpreter": {
   "hash": "5a3af36801c2d8e983b09937202d62f60e1c87a4a9f73979273408502b56593e"
  },
  "kernelspec": {
   "display_name": "Python 3.10.4 64-bit ('docs')",
   "language": "python",
   "name": "python3"
  },
  "language_info": {
   "codemirror_mode": {
    "name": "ipython",
    "version": 3
   },
   "file_extension": ".py",
   "mimetype": "text/x-python",
   "name": "python",
   "nbconvert_exporter": "python",
   "pygments_lexer": "ipython3",
   "version": "3.10.4"
  },
  "orig_nbformat": 4
 },
 "nbformat": 4,
 "nbformat_minor": 2
}
